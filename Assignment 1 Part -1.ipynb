{
 "cells": [
  {
   "cell_type": "code",
   "execution_count": 165,
   "id": "initial_id",
   "metadata": {
    "ExecuteTime": {
     "end_time": "2024-05-20T23:54:26.130633Z",
     "start_time": "2024-05-20T23:54:26.119204Z"
    }
   },
   "outputs": [],
   "source": [
    "# imports\n",
    "\n",
    "import re\n",
    "import nltk\n",
    "from matplotlib import pyplot as plt\n",
    "from collections import defaultdict\n",
    "import pandas as pd"
   ]
  },
  {
   "cell_type": "markdown",
   "id": "905cbbe763a03e6d",
   "metadata": {},
   "source": [
    "## 1) Implement BPE Algorithm"
   ]
  },
  {
   "cell_type": "code",
   "execution_count": 65,
   "id": "5335b810e1396eb3",
   "metadata": {
    "ExecuteTime": {
     "end_time": "2024-05-20T23:02:55.614941Z",
     "start_time": "2024-05-20T23:02:55.290148Z"
    }
   },
   "outputs": [
    {
     "name": "stdout",
     "output_type": "stream",
     "text": [
      "Vocabulary: ['s', 'l', 'i', 'd', '_', 't', 'o', 'w', 'n', 'r', 'e', ('e', 'r'), ('er', '_'), ('n', 'e'), ('ne', 'w'), ('l', 'o'), ('lo', 'w'), ('new', 'er_'), ('low', '_'), ('w', 'i'), ('wi', 'd'), ('wid', 'er_'), ('low', 'e'), ('lowe', 's'), ('lowes', 't'), ('lowest', '_'), ('new', '_')]\n",
      "Tokenized text: ['new', 'e', 's', 't', '_', 'wid', 'e', 's', 't', '_', 'low', 'er_']\n",
      "Decoded text: newest widest lower\n"
     ]
    }
   ],
   "source": [
    "class BPETokenizer:\n",
    "    def __init__(self):\n",
    "        self.vocab = []\n",
    "        self.merge_counts = []\n",
    "\n",
    "    def preprocess(self, text):\n",
    "        text = re.sub(r'\\s+', ' ', text)\n",
    "        text = re.sub(r'\\n+', ' ', text)\n",
    "        return text\n",
    "\n",
    "    def build_vocab(self, text):\n",
    "        words = self.preprocess(text).split(' ')\n",
    "        word_counts = defaultdict(int)\n",
    "\n",
    "        for word in words:\n",
    "            word_counts[word] += 1\n",
    "\n",
    "        for word in list(word_counts.keys()):\n",
    "            word_counts[word + '_'] = word_counts[word]\n",
    "            del word_counts[word]\n",
    "\n",
    "        unique_words = list(word_counts.keys())\n",
    "\n",
    "        for word in unique_words:\n",
    "            self.vocab.extend(list(word))\n",
    "\n",
    "        self.vocab = list(set(self.vocab))\n",
    "\n",
    "        return {word: list(word) for word in unique_words}, word_counts\n",
    "\n",
    "    def get_max_pair(self, splits, counts):\n",
    "        pair_counts = defaultdict(int)\n",
    "\n",
    "        for word, freq in counts.items():\n",
    "            split = splits[word]\n",
    "            for i in range(len(split) - 1):\n",
    "                pair = (split[i], split[i + 1])\n",
    "                pair_counts[pair] += freq\n",
    "\n",
    "        if not pair_counts:\n",
    "            return None, 1\n",
    "\n",
    "        max_pair = max(pair_counts, key=pair_counts.get)\n",
    "        return max_pair, pair_counts[max_pair]\n",
    "\n",
    "    def merge_splits(self, splits, pair):\n",
    "        for word in splits:\n",
    "            split = splits[word]\n",
    "            i = 0\n",
    "            while i < len(split) - 1:\n",
    "                if split[i] == pair[0] and split[i + 1] == pair[1]:\n",
    "                    split[i] = pair[0] + pair[1]\n",
    "                    del split[i + 1]\n",
    "                else:\n",
    "                    i += 1\n",
    "        return splits\n",
    "\n",
    "    def train(self, text, num_merges=2000):\n",
    "        splits, counts = self.build_vocab(text)\n",
    "\n",
    "        for _ in range(num_merges):\n",
    "            pair, count = self.get_max_pair(splits, counts)\n",
    "            if count == 1:\n",
    "                break\n",
    "            self.vocab.append(pair)\n",
    "            self.merge_counts.append(count)\n",
    "            splits = self.merge_splits(splits, pair)\n",
    "\n",
    "    def tokenize(self, text):\n",
    "        words = self.preprocess(text).split(' ')\n",
    "        splits = {word + '_': list(word + '_') for word in words}\n",
    "\n",
    "        for pair in self.vocab:\n",
    "            if isinstance(pair, tuple):\n",
    "                splits = self.merge_splits(splits, pair)\n",
    "\n",
    "        tokens = [token for word in words for token in splits[word + '_']]\n",
    "        return tokens\n",
    "\n",
    "    def detokenize(self, tokens):\n",
    "        text = ''.join(tokens)\n",
    "        text = re.sub(r'_', ' ', text)\n",
    "        text = re.sub(r'\\s+', ' ', text)\n",
    "        return text.strip()\n",
    "\n",
    "\n",
    "# Example usage\n",
    "tokenizer = BPETokenizer()\n",
    "train_text = \"low low low low low lowest lowest newer newer newer newer newer newer wider wider wider new new\"\n",
    "tokenizer.train(train_text)\n",
    "\n",
    "test_text = \"newest widest lower\"\n",
    "tokens = tokenizer.tokenize(test_text)\n",
    "decoded_text = tokenizer.detokenize(tokens)\n",
    "\n",
    "print(\"Vocabulary:\", tokenizer.vocab)\n",
    "print(\"Tokenized text:\", tokens)\n",
    "print(\"Decoded text:\", decoded_text)"
   ]
  },
  {
   "cell_type": "markdown",
   "id": "695d0470510f51cd",
   "metadata": {},
   "source": [
    "## 2) Train on NLTK Datasets"
   ]
  },
  {
   "cell_type": "code",
   "execution_count": 66,
   "id": "5c7fc7e432e17089",
   "metadata": {
    "ExecuteTime": {
     "end_time": "2024-05-20T23:10:07.587084Z",
     "start_time": "2024-05-20T23:03:25.990978Z"
    }
   },
   "outputs": [
    {
     "name": "stderr",
     "output_type": "stream",
     "text": [
      "[nltk_data] Downloading package gutenberg to\n",
      "[nltk_data]     C:\\Users\\vikra\\AppData\\Roaming\\nltk_data...\n",
      "[nltk_data]   Package gutenberg is already up-to-date!\n"
     ]
    },
    {
     "name": "stdout",
     "output_type": "stream",
     "text": [
      "Available Books:\n",
      "austen-emma.txt\n",
      "austen-persuasion.txt\n",
      "austen-sense.txt\n",
      "bible-kjv.txt\n",
      "blake-poems.txt\n",
      "bryant-stories.txt\n",
      "burgess-busterbrown.txt\n",
      "carroll-alice.txt\n",
      "chesterton-ball.txt\n",
      "chesterton-brown.txt\n",
      "chesterton-thursday.txt\n",
      "edgeworth-parents.txt\n",
      "melville-moby_dick.txt\n",
      "milton-paradise.txt\n",
      "shakespeare-caesar.txt\n",
      "shakespeare-hamlet.txt\n",
      "shakespeare-macbeth.txt\n",
      "whitman-leaves.txt\n",
      "\n",
      "Sample Text from 'shakespeare-hamlet.txt':\n",
      "[The Tragedie of Hamlet by William Shakespeare 1599]\n",
      "\n",
      "\n",
      "Actus Primus. Scoena Prima.\n",
      "\n",
      "Enter Barnardo and Francisco two Centinels.\n",
      "\n",
      "  Barnardo. Who's there?\n",
      "  Fran. Nay answer me: Stand & vnfold\n",
      "your selfe\n",
      "\n",
      "   Bar. Long liue the King\n",
      "\n",
      "   Fran. Barnardo?\n",
      "  Bar. He\n",
      "\n",
      "   Fran. You come most carefully vpon your houre\n",
      "\n",
      "   Bar. 'Tis now strook twelue, get thee to bed Francisco\n",
      "\n",
      "   Fran. For this releefe much thankes: 'Tis bitter cold,\n",
      "And I am sicke at heart\n",
      "\n",
      "   Barn. Haue you had quiet Guard?\n",
      "  Fran. Not\n",
      "vocab is ====\n",
      " ['z', 'o', 'G', 'V', 'F', 'j', 'T', '4', 'B', 'E', 'h', 'R', 'O', '0', 'J', 'i', 'M', 'q', '2', '7', 'n', ';', '(', 'W', '1', 'e', 's', '-', 'C', '5', 'X', 'f', 'S', 'N', 'k', 'm', '!', ']', 'Y', '6', 'K', ')', '?', '\"', 'D', 'Q', 'P', '[', 'U', ',', \"'\", '_', 'a', 'l', 'y', 'd', 'c', 't', 'A', 'u', '.', 'L', '3', 'b', 'g', '`', 'p', '9', 'I', 'r', 'Z', 'v', 'H', 'w', '&', 'x', '8', ('e', '_'), ('t', '_'), ('t', 'h'), ('d', '_'), ('e', 'r'), ('s', '_'), (',', '_'), ('i', 'n'), ('a', 'n'), ('y', '_'), ('o', 'u'), ('o', '_'), ('.', '_'), ('o', 'n'), ('e', 'n'), ('o', 'r'), ('a', 'r'), ('f', '_'), ('th', 'e_'), ('in', 'g'), ('t', 'o_'), ('h', 'a')]\n"
     ]
    }
   ],
   "source": [
    "# Download the NLTK Gutenberg Corpus\n",
    "nltk.download('gutenberg')\n",
    "\n",
    "# Import the Gutenberg Corpus module\n",
    "from nltk.corpus import gutenberg\n",
    "\n",
    "# Get the list of available books in the Gutenberg Corpus\n",
    "book_list = gutenberg.fileids()\n",
    "\n",
    "# Print the list of available books\n",
    "print(\"Available Books:\")\n",
    "for book in book_list:\n",
    "    print(book)\n",
    "\n",
    "# Load a specific book (e.g., \"shakespeare-hamlet.txt\")\n",
    "shakespeare = gutenberg.raw('shakespeare-hamlet.txt')\n",
    "austen = gutenberg.raw('austen-emma.txt')\n",
    "blake = gutenberg.raw('blake-poems.txt')\n",
    "\n",
    "# Display the first 500 characters of the selected book\n",
    "print(\"\\nSample Text from 'shakespeare-hamlet.txt':\")\n",
    "print(shakespeare[:500])\n",
    "\n",
    "# Lets train bpe on shakespeare hamlet\n",
    "bpe = BPETokenizer()\n",
    "bpe.train(' '.join([shakespeare, austen, blake]))\n",
    "print('vocab is ====\\n', bpe.vocab[1:100])"
   ]
  },
  {
   "cell_type": "markdown",
   "id": "58a57137e3d5e89c",
   "metadata": {},
   "source": [
    "## 3) Test on NLTK Datasets"
   ]
  },
  {
   "cell_type": "code",
   "execution_count": 59,
   "id": "e298f684c1879a22",
   "metadata": {
    "ExecuteTime": {
     "end_time": "2024-05-20T16:16:27.488898Z",
     "start_time": "2024-05-20T16:16:27.466277Z"
    }
   },
   "outputs": [],
   "source": [
    "frankenstein = open('frankenstein.txt', encoding=\"utf8\").read()\n",
    "dracula = open('dracula.txt', encoding=\"utf8\").read()\n",
    "holmes = open('sherlock_holmes.txt', encoding=\"utf8\").read()"
   ]
  },
  {
   "cell_type": "code",
   "execution_count": 67,
   "id": "12ed24b4151d41f1",
   "metadata": {
    "ExecuteTime": {
     "end_time": "2024-05-20T16:21:23.274012Z",
     "start_time": "2024-05-20T16:16:30.724864Z"
    }
   },
   "outputs": [],
   "source": [
    "frank_encoded = bpe.tokenize(frankenstein)\n",
    "dracula_encoded = bpe.tokenize(dracula)\n",
    "holmes_encoded = bpe.tokenize(holmes)"
   ]
  },
  {
   "cell_type": "code",
   "execution_count": 68,
   "id": "833890794a907718",
   "metadata": {
    "ExecuteTime": {
     "end_time": "2024-05-20T16:23:07.857063Z",
     "start_time": "2024-05-20T16:23:07.837957Z"
    }
   },
   "outputs": [
    {
     "data": {
      "text/plain": [
       "'Letter 1 St. Petersburgh, Dec. 11th, 17-- TO Mrs. Saville, England You will rejoice to hear that no disaster has accompanied the commencement of an enterprise which you have regarded with such evil forebodings. I arrived here yesterday, and my first task is to assure my dear sister of my welfare and increasing confidence in the success of my undertaking. I am already far north of London, and as I walk in the streets of Petersburgh, I feel a cold northern breeze play upon my cheeks, which braces my nerves and fills me with delight. Do you understand this feeling? This breeze, which has travelled from the regions towards which I am advancing, gives me a foretaste of those icy climes. Inspirited by this wind of promise, my daydreams become more fervent and vivid. I try in vain to be persuaded that the pole is the seat of frost and desolation; it ever presents itself to my imagination as the region of beauty and delight. There, Margaret, the sun is forever visible, its broad disk just skirting the horizon and diffusing a perpetual splendour. There--for with your leave, my sister, I will put some trust in preceding navigators--there snow and frost are banished; and, sailing over a calm sea, we may be wafted to a land surpassing in wonders and in beauty every region hitherto discovered on the habitable globe. Its productions and features may be without example, as the phenomena of the heavenly bodies undoubtedly are in those undiscovered solitudes. What may not be expected in a'"
      ]
     },
     "execution_count": 68,
     "metadata": {},
     "output_type": "execute_result"
    }
   ],
   "source": [
    "bpe.detokenize(frank_encoded[0:500])"
   ]
  },
  {
   "cell_type": "markdown",
   "id": "7573cec7bfbd4092",
   "metadata": {},
   "source": [
    "## 4) Creating Reference Tokenization"
   ]
  },
  {
   "cell_type": "code",
   "execution_count": 53,
   "id": "a6b898537ed69f8a",
   "metadata": {},
   "outputs": [],
   "source": [
    "test_books = {'frankenstein': frankenstein, 'dracula': dracula, 'holmes': holmes}\n",
    "for book in test_books:    \n",
    "    punkt_tokenized_sentences = nltk.sent_tokenize(test_books[book])\n",
    "    punkt_tokenized_words = nltk.word_tokenize(test_books[book])\n",
    "    with open(f'punkt_tokenized_sentence_{book}.txt', 'w', encoding=\"utf8\") as f:\n",
    "        for sentence in punkt_tokenized_sentences:\n",
    "            f.write(sentence)\n",
    "    with open(f'punkt_tokenized_words_{book}.txt', 'w', encoding=\"utf8\") as f:\n",
    "        for word in punkt_tokenized_words:\n",
    "            f.write(word)"
   ]
  },
  {
   "cell_type": "markdown",
   "id": "3c88a36ce7a18208",
   "metadata": {},
   "source": [
    "## 5) Comparing with Standard Tokenization"
   ]
  },
  {
   "cell_type": "code",
   "execution_count": 69,
   "id": "c01fd5061d837324",
   "metadata": {
    "ExecuteTime": {
     "end_time": "2024-05-20T16:26:54.646658Z",
     "start_time": "2024-05-20T16:26:53.486313Z"
    }
   },
   "outputs": [],
   "source": [
    "nltk_frankenstein = nltk.word_tokenize(frankenstein)\n",
    "nltk_dracula = nltk.word_tokenize(dracula)\n",
    "nltk_holmes = nltk.word_tokenize(holmes)"
   ]
  },
  {
   "cell_type": "code",
   "execution_count": 139,
   "id": "798fb887eb0bddfd",
   "metadata": {
    "ExecuteTime": {
     "end_time": "2024-05-21T19:58:34.929121Z",
     "start_time": "2024-05-21T19:58:34.878139Z"
    }
   },
   "outputs": [],
   "source": [
    "def token_length_frequency(tokens):\n",
    "    token_length = {}\n",
    "    for i in tokens:\n",
    "        token_length[len(i)] = token_length.get(len(i), 0) + 1\n",
    "    return token_length\n",
    "\n",
    "def calculate_performance(nltk_tokens, bpe_tokens):\n",
    "    \n",
    "    bpe_tokens_final = []\n",
    "    \n",
    "    for i in bpe_tokens:\n",
    "        if i=='_':\n",
    "            continue\n",
    "        elif (i[-1] == '_' and len(i) > 1):\n",
    "            bpe_tokens_final.append(i[:-1])\n",
    "        else:\n",
    "            bpe_tokens_final.append(i)\n",
    "\n",
    "    unique_bpe_tokens, unique_nltk_tokens = set(bpe_tokens_final), set(nltk_tokens)    \n",
    "    correct_tokens=sum(token in unique_bpe_tokens for token in nltk_tokens)\n",
    "    \n",
    "    true_positives = len(unique_bpe_tokens.intersection(unique_nltk_tokens))\n",
    "    false_positives = len(unique_bpe_tokens.difference(unique_nltk_tokens))\n",
    "    false_negatives = len(unique_nltk_tokens.difference(unique_bpe_tokens))\n",
    " \n",
    "    \n",
    "    accuracy = (correct_tokens / len(nltk_tokens))*100\n",
    "    tokenization_coverage = (len(set(bpe_tokens_final)) / len(set(nltk_tokens))) * 100    \n",
    "    precision = true_positives / (true_positives + false_positives)\n",
    "    recall = true_positives / (true_positives + false_negatives)\n",
    "    f1_score = 2 * precision * recall / (precision + recall)    \n",
    "    jaccard_similarity = len(unique_bpe_tokens.intersection(unique_nltk_tokens)) / len(unique_bpe_tokens.union(unique_nltk_tokens))\n",
    "    \n",
    "    return accuracy, tokenization_coverage, precision, recall, f1_score, jaccard_similarity,token_length_frequency(bpe_tokens_final),token_length_frequency(nltk_tokens)\n",
    "\n",
    "        "
   ]
  },
  {
   "cell_type": "code",
   "execution_count": 168,
   "id": "4cdb85c589da005",
   "metadata": {
    "ExecuteTime": {
     "end_time": "2024-05-21T20:03:55.380716Z",
     "start_time": "2024-05-21T19:58:38.593274Z"
    }
   },
   "outputs": [
    {
     "data": {
      "text/html": [
       "<div>\n",
       "<style scoped>\n",
       "    .dataframe tbody tr th:only-of-type {\n",
       "        vertical-align: middle;\n",
       "    }\n",
       "\n",
       "    .dataframe tbody tr th {\n",
       "        vertical-align: top;\n",
       "    }\n",
       "\n",
       "    .dataframe thead th {\n",
       "        text-align: right;\n",
       "    }\n",
       "</style>\n",
       "<table border=\"1\" class=\"dataframe\">\n",
       "  <thead>\n",
       "    <tr style=\"text-align: right;\">\n",
       "      <th></th>\n",
       "      <th>Measure</th>\n",
       "      <th>Accuracy</th>\n",
       "      <th>Tokenization Coverage</th>\n",
       "      <th>Precision</th>\n",
       "      <th>Recall</th>\n",
       "      <th>F1-Score</th>\n",
       "      <th>Jaccard Similarity</th>\n",
       "    </tr>\n",
       "  </thead>\n",
       "  <tbody>\n",
       "    <tr>\n",
       "      <th>0</th>\n",
       "      <td>Frankenstein</td>\n",
       "      <td>69.955766</td>\n",
       "      <td>21.736231</td>\n",
       "      <td>0.365644</td>\n",
       "      <td>0.079477</td>\n",
       "      <td>0.130573</td>\n",
       "      <td>0.069846</td>\n",
       "    </tr>\n",
       "    <tr>\n",
       "      <th>1</th>\n",
       "      <td>Dracula</td>\n",
       "      <td>76.698735</td>\n",
       "      <td>14.665493</td>\n",
       "      <td>0.412965</td>\n",
       "      <td>0.060563</td>\n",
       "      <td>0.105635</td>\n",
       "      <td>0.055763</td>\n",
       "    </tr>\n",
       "    <tr>\n",
       "      <th>2</th>\n",
       "      <td>Holmes</td>\n",
       "      <td>75.290383</td>\n",
       "      <td>16.370142</td>\n",
       "      <td>0.403157</td>\n",
       "      <td>0.065997</td>\n",
       "      <td>0.113427</td>\n",
       "      <td>0.060123</td>\n",
       "    </tr>\n",
       "  </tbody>\n",
       "</table>\n",
       "</div>"
      ],
      "text/plain": [
       "        Measure   Accuracy  Tokenization Coverage  Precision    Recall  \\\n",
       "0  Frankenstein  69.955766              21.736231   0.365644  0.079477   \n",
       "1       Dracula  76.698735              14.665493   0.412965  0.060563   \n",
       "2        Holmes  75.290383              16.370142   0.403157  0.065997   \n",
       "\n",
       "   F1-Score  Jaccard Similarity  \n",
       "0  0.130573            0.069846  \n",
       "1  0.105635            0.055763  \n",
       "2  0.113427            0.060123  "
      ]
     },
     "execution_count": 168,
     "metadata": {},
     "output_type": "execute_result"
    }
   ],
   "source": [
    "frankenstein_performance = calculate_performance(nltk_frankenstein, frank_encoded)\n",
    "dracula_performance = calculate_performance(nltk_dracula, dracula_encoded)\n",
    "holmes_performance = calculate_performance(nltk_holmes, holmes_encoded)\n",
    "\n",
    "performance_table={\n",
    "    \"Measure\":[],\n",
    "    \"Accuracy\":[],\n",
    "    \"Tokenization Coverage\":[],\n",
    "    \"Precision\":[],\n",
    "    \"Recall\":[],\n",
    "    \"F1-Score\":[],\n",
    "    \"Jaccard Similarity\":[]     \n",
    "}\n",
    "\n",
    "for measure, performance in zip(['Frankenstein', 'Dracula', 'Holmes'],[frankenstein_performance, dracula_performance, holmes_performance]):\n",
    "    performance_table[\"Measure\"].append(measure)\n",
    "    performance_table[\"Accuracy\"].append(performance[0])\n",
    "    performance_table[\"Tokenization Coverage\"].append(performance[1])\n",
    "    performance_table[\"Precision\"].append(performance[2])\n",
    "    performance_table[\"Recall\"].append(performance[3])\n",
    "    performance_table[\"F1-Score\"].append(performance[4])\n",
    "    performance_table[\"Jaccard Similarity\"].append(performance[5])\n",
    "    \n",
    "performance_overall=pd.DataFrame(performance_table)\n",
    "performance_overall"
   ]
  },
  {
   "cell_type": "markdown",
   "id": "2192f19400a5f1ca",
   "metadata": {},
   "source": [
    "## 6) Visualizations"
   ]
  },
  {
   "cell_type": "markdown",
   "id": "fb59d1754d6d9c2e",
   "metadata": {},
   "source": [
    "#### Evolution of vocabulary and Frequency of Byte-Pair Merges"
   ]
  },
  {
   "cell_type": "code",
   "execution_count": 135,
   "id": "4428506185973eb5",
   "metadata": {
    "ExecuteTime": {
     "end_time": "2024-05-22T18:04:48.820945Z",
     "start_time": "2024-05-22T18:04:46.872246Z"
    }
   },
   "outputs": [
    {
     "data": {
      "text/plain": [
       "Text(0.5, 1.0, 'Evolution of vocabulary and Frequency of Byte-Pair Merges')"
      ]
     },
     "execution_count": 135,
     "metadata": {},
     "output_type": "execute_result"
    },
    {
     "data": {
      "image/png": "[encoded data removed]",
      "text/plain": [
       "<Figure size 640x480 with 1 Axes>"
      ]
     },
     "metadata": {},
     "output_type": "display_data"
    }
   ],
   "source": [
    "bpe_merges = [i for i in bpe.vocab if type(i)==tuple]\n",
    "plt.scatter(range(len(bpe_merges [0:5000])), bpe.merge_counts[0:5000], s=10)\n",
    "plt.xlabel('BPE Merge')\n",
    "plt.ylabel('Frequency')\n",
    "plt.title('Evolution of vocabulary and Frequency of Byte-Pair Merges')"
   ]
  },
  {
   "cell_type": "markdown",
   "id": "3c3b1e5a1223c555",
   "metadata": {},
   "source": [
    "### Histogram of standard token length vs bpe token length"
   ]
  },
  {
   "cell_type": "code",
   "execution_count": 163,
   "id": "7f634a0844e05dd3",
   "metadata": {
    "ExecuteTime": {
     "end_time": "2024-05-22T00:02:14.253615Z",
     "start_time": "2024-05-22T00:02:12.730267Z"
    }
   },
   "outputs": [
    {
     "data": {
      "image/png": "[encoded data removed]",
      "text/plain": [
       "<Figure size 2000x500 with 3 Axes>"
      ]
     },
     "metadata": {},
     "output_type": "display_data"
    }
   ],
   "source": [
    "plt.figure(figsize=(20,5))\n",
    "\n",
    "\n",
    "plt.subplot(1, 3, 1)\n",
    "plt.bar(list(calculate_performance(nltk_frankenstein, frank_encoded)[7].keys()), calculate_performance(nltk_frankenstein, frank_encoded)[7].values(),width=0.8, label='NLTK')\n",
    "plt.bar(list(calculate_performance(nltk_frankenstein, frank_encoded)[6].keys()), calculate_performance(nltk_frankenstein, frank_encoded)[6].values(),width=0.3, label='BPE')\n",
    "plt.legend()\n",
    "plt.ylabel('Frequency')\n",
    "plt.xlabel('Token Length')\n",
    "plt.title('NLTK Token Length vs BPE Token Length for Frankenstein')\n",
    "\n",
    "plt.subplot(1, 3, 2)\n",
    "plt.bar(list(calculate_performance(nltk_dracula, dracula_encoded)[7].keys()), calculate_performance(nltk_dracula, dracula_encoded)[7].values(),width=0.8, label='NLTK')\n",
    "plt.bar(list(calculate_performance(nltk_dracula, dracula_encoded)[6].keys()), calculate_performance(nltk_dracula, dracula_encoded)[6].values(),width=0.3, label='BPE')\n",
    "plt.legend()\n",
    "plt.ylabel('Frequency')\n",
    "plt.xlabel('Token Length')\n",
    "plt.title('NLTK Token Length vs BPE Token Length for Dracula')\n",
    "\n",
    "plt.subplot(1, 3, 3)\n",
    "plt.bar(list(calculate_performance(nltk_holmes, holmes_encoded)[7].keys()), calculate_performance(nltk_holmes, holmes_encoded)[7].values(),width=0.8, label='NLTK')\n",
    "plt.bar(list(calculate_performance(nltk_holmes, holmes_encoded)[6].keys()), calculate_performance(nltk_holmes, holmes_encoded)[6].values(),width=0.3, label='BPE')\n",
    "plt.legend()\n",
    "plt.ylabel('Frequency')\n",
    "plt.xlabel('Token Length')\n",
    "plt.title('NLTK Token Length vs BPE Token Length for Holmes')\n",
    "\n",
    "\n",
    "plt.show()"
   ]
  },
  {
   "cell_type": "markdown",
   "id": "1d67488dccf754a5",
   "metadata": {},
   "source": [
    "### Top 10 BPE Merges"
   ]
  },
  {
   "cell_type": "code",
   "execution_count": 164,
   "id": "a674005106589a0c",
   "metadata": {
    "ExecuteTime": {
     "end_time": "2024-05-21T01:00:42.331276Z",
     "start_time": "2024-05-21T01:00:42.289917Z"
    }
   },
   "outputs": [
    {
     "data": {
      "text/plain": [
       "[('e', '_'),\n",
       " ('t', '_'),\n",
       " ('t', 'h'),\n",
       " ('d', '_'),\n",
       " ('e', 'r'),\n",
       " ('s', '_'),\n",
       " (',', '_'),\n",
       " ('i', 'n'),\n",
       " ('a', 'n'),\n",
       " ('y', '_')]"
      ]
     },
     "execution_count": 164,
     "metadata": {},
     "output_type": "execute_result"
    }
   ],
   "source": [
    "bpe_merges[0:10]"
   ]
  }
 ],
 "metadata": {
  "kernelspec": {
   "display_name": "Python 3 (ipykernel)",
   "language": "python",
   "name": "python3"
  },
  "language_info": {
   "codemirror_mode": {
    "name": "ipython",
    "version": 3
   },
   "file_extension": ".py",
   "mimetype": "text/x-python",
   "name": "python",
   "nbconvert_exporter": "python",
   "pygments_lexer": "ipython3",
   "version": "3.10.9"
  }
 },
 "nbformat": 4,
 "nbformat_minor": 5
}
